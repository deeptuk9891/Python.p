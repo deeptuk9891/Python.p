{
  "nbformat": 4,
  "nbformat_minor": 0,
  "metadata": {
    "colab": {
      "provenance": []
    },
    "kernelspec": {
      "name": "python3",
      "display_name": "Python 3"
    },
    "language_info": {
      "name": "python"
    }
  },
  "cells": [
    {
      "cell_type": "markdown",
      "source": [
        "#  PYTHON\n"
      ],
      "metadata": {
        "id": "i3ng7mo-_m7W"
      }
    },
    {
      "cell_type": "markdown",
      "source": [
        "1. What is Python, and why is it popular?\n",
        "     - Python is very easy to understanding language multiline company use to this language.\n",
        "2. What is an interpreter in Python?\n",
        "     -  interpreter is translatter in python.\n",
        "\n",
        "3.What are pre-defined keywords in Python?\n",
        "    - some pre-defined keywords in python like True,False,none etc.\n",
        "4.Can keywords be used as variable names?\n",
        "    - No keywords is pre-defined keywords not variable\n",
        "    a = 5 is variable\n",
        "   : print (is keywords)\n",
        "\n",
        "5.What is mutability in Python?\n",
        "   -#objects/container whose state or value can  be changed after they are created are\n",
        "#called as mmutable objects or container,\n",
        "#string is a type of immutable object/ doesn't supports item assignment\n"
      ],
      "metadata": {
        "id": "dAx1E36lhTnn"
      }
    },
    {
      "cell_type": "code",
      "source": [],
      "metadata": {
        "id": "fCC14NIAJVQX"
      },
      "execution_count": null,
      "outputs": []
    },
    {
      "cell_type": "code",
      "source": [
        "#another type of data container\n",
        "list_cont = [1,2,3,4.3,(3+5j),True,\"Ajay\"]\n",
        "list_cont"
      ],
      "metadata": {
        "colab": {
          "base_uri": "https://localhost:8080/"
        },
        "id": "FQngMDGgJHkc",
        "outputId": "e7b45306-b043-470a-fbbb-fbeacd03613d"
      },
      "execution_count": null,
      "outputs": [
        {
          "output_type": "execute_result",
          "data": {
            "text/plain": [
              "[1, 2, 3, 4.3, (3+5j), True, 'Ajay']"
            ]
          },
          "metadata": {},
          "execution_count": 54
        }
      ]
    },
    {
      "cell_type": "code",
      "source": [
        "list_cont[0]"
      ],
      "metadata": {
        "colab": {
          "base_uri": "https://localhost:8080/"
        },
        "id": "DMUWwqa2LBSZ",
        "outputId": "0a9ec184-c5a5-4d3f-88b0-5092381b2b73"
      },
      "execution_count": null,
      "outputs": [
        {
          "output_type": "execute_result",
          "data": {
            "text/plain": [
              "1"
            ]
          },
          "metadata": {},
          "execution_count": 55
        }
      ]
    },
    {
      "cell_type": "code",
      "source": [
        "list_cont[4]"
      ],
      "metadata": {
        "colab": {
          "base_uri": "https://localhost:8080/"
        },
        "id": "IxD8CK64epNJ",
        "outputId": "d988b1bc-a7c4-4cc6-b8f1-e20615a9a583"
      },
      "execution_count": null,
      "outputs": [
        {
          "output_type": "execute_result",
          "data": {
            "text/plain": [
              "(3+5j)"
            ]
          },
          "metadata": {},
          "execution_count": 56
        }
      ]
    },
    {
      "cell_type": "code",
      "source": [
        "list_cont[6]"
      ],
      "metadata": {
        "colab": {
          "base_uri": "https://localhost:8080/",
          "height": 35
        },
        "id": "_9Pp6uFsfWj6",
        "outputId": "59324b4a-c539-4699-b265-89e5a70876ee"
      },
      "execution_count": null,
      "outputs": [
        {
          "output_type": "execute_result",
          "data": {
            "text/plain": [
              "'Ajay'"
            ],
            "application/vnd.google.colaboratory.intrinsic+json": {
              "type": "string"
            }
          },
          "metadata": {},
          "execution_count": 57
        }
      ]
    },
    {
      "cell_type": "code",
      "source": [
        "list_cont[-1]"
      ],
      "metadata": {
        "colab": {
          "base_uri": "https://localhost:8080/",
          "height": 35
        },
        "id": "m3XViUrifWSQ",
        "outputId": "835849bf-8398-4014-cbb4-7e848927838c"
      },
      "execution_count": null,
      "outputs": [
        {
          "output_type": "execute_result",
          "data": {
            "text/plain": [
              "'Ajay'"
            ],
            "application/vnd.google.colaboratory.intrinsic+json": {
              "type": "string"
            }
          },
          "metadata": {},
          "execution_count": 58
        }
      ]
    },
    {
      "cell_type": "code",
      "source": [
        "#mutability\n",
        "list_cont[6] = \"Bijay\""
      ],
      "metadata": {
        "id": "DMHyPyttfylP"
      },
      "execution_count": null,
      "outputs": []
    },
    {
      "cell_type": "code",
      "source": [
        "list_cont"
      ],
      "metadata": {
        "colab": {
          "base_uri": "https://localhost:8080/"
        },
        "id": "z8u4uFpvgL-f",
        "outputId": "a570d5eb-a54a-43ff-a3af-02c428da1f1a"
      },
      "execution_count": null,
      "outputs": [
        {
          "output_type": "execute_result",
          "data": {
            "text/plain": [
              "(1, 2, 3, 4.23, (3+5j), True, 'Ajay')"
            ]
          },
          "metadata": {},
          "execution_count": 39
        }
      ]
    },
    {
      "cell_type": "code",
      "source": [
        "list_cont\n",
        "type(list_cont)"
      ],
      "metadata": {
        "colab": {
          "base_uri": "https://localhost:8080/"
        },
        "id": "uhSzNCnXjb6B",
        "outputId": "4e85fb44-6e21-4829-a25d-ec27f519fbc8"
      },
      "execution_count": null,
      "outputs": [
        {
          "output_type": "execute_result",
          "data": {
            "text/plain": [
              "list"
            ]
          },
          "metadata": {},
          "execution_count": 60
        }
      ]
    },
    {
      "cell_type": "code",
      "source": [
        "list_cont[6] = \"Bijay\""
      ],
      "metadata": {
        "id": "nFSkVGp9l4ax"
      },
      "execution_count": null,
      "outputs": []
    },
    {
      "cell_type": "code",
      "source": [
        "list_cont"
      ],
      "metadata": {
        "colab": {
          "base_uri": "https://localhost:8080/"
        },
        "id": "YpVkaMZQmSE9",
        "outputId": "edc5ef15-4377-41aa-9bcf-a0dd17c7783a"
      },
      "execution_count": null,
      "outputs": [
        {
          "output_type": "execute_result",
          "data": {
            "text/plain": [
              "[1, 2, 3, 4.3, (3+5j), True, 'Bijay']"
            ]
          },
          "metadata": {},
          "execution_count": 63
        }
      ]
    },
    {
      "cell_type": "code",
      "source": [
        "list_cont[0]= 100\n"
      ],
      "metadata": {
        "id": "BzVMBq-zm0kG"
      },
      "execution_count": null,
      "outputs": []
    },
    {
      "cell_type": "code",
      "source": [
        "list_cont"
      ],
      "metadata": {
        "colab": {
          "base_uri": "https://localhost:8080/"
        },
        "id": "fKvWCWzdm6_k",
        "outputId": "c916addb-9494-46e1-befa-6f90900445ef"
      },
      "execution_count": null,
      "outputs": [
        {
          "output_type": "execute_result",
          "data": {
            "text/plain": [
              "[100, 2, 3, 4.3, (3+5j), True, 'Bijay']"
            ]
          },
          "metadata": {},
          "execution_count": 65
        }
      ]
    },
    {
      "cell_type": "markdown",
      "source": [
        "6. Why are lists mutable, but tuples are immutable?\n",
        "    - tuples use parentheses instead of square brackets, and the items in tuples cannot be modified,list is mutable because lists can changed.\n",
        "    \\\\"
      ],
      "metadata": {
        "id": "Aj0T4LzpnVgX"
      }
    },
    {
      "cell_type": "markdown",
      "source": [
        "    7.What is the difference between “==” and “is” operators in Python?\n",
        "        - == its mean to any two objects is eqal to\n",
        "         is it mean to compare to memory location in two objects\n",
        "         "
      ],
      "metadata": {
        "id": "bGC_xLaztBRe"
      }
    },
    {
      "cell_type": "code",
      "source": [
        "a=2\n",
        "b=2\n",
        "a==b"
      ],
      "metadata": {
        "colab": {
          "base_uri": "https://localhost:8080/"
        },
        "id": "9MJtdVTIt32U",
        "outputId": "ee47c506-80cd-4c30-a417-67d06378b676"
      },
      "execution_count": null,
      "outputs": [
        {
          "output_type": "execute_result",
          "data": {
            "text/plain": [
              "True"
            ]
          },
          "metadata": {},
          "execution_count": 2
        }
      ]
    },
    {
      "cell_type": "code",
      "source": [
        "a=2\n",
        "b=2\n",
        "a is b\n"
      ],
      "metadata": {
        "colab": {
          "base_uri": "https://localhost:8080/"
        },
        "id": "qxWvh2wOuCVZ",
        "outputId": "9ac0d811-4942-4849-be3c-2255ef4c9e3c"
      },
      "execution_count": null,
      "outputs": [
        {
          "output_type": "execute_result",
          "data": {
            "text/plain": [
              "True"
            ]
          },
          "metadata": {},
          "execution_count": 1
        }
      ]
    },
    {
      "cell_type": "markdown",
      "source": [
        "   8.What are logical operators in Python?\n",
        "      -logical operator in python like\n",
        "      and, or, not\n",
        "      "
      ],
      "metadata": {
        "id": "09ZCiRk-uPA1"
      }
    },
    {
      "cell_type": "markdown",
      "source": [
        "\n",
        "  9.What is type casting in Python?\n",
        "        - type casting in python like cast any number like str.to float float to sgtring, int to float.\n",
        "          \n",
        "\n",
        "  "
      ],
      "metadata": {
        "id": "l6YrWuyouoCs"
      }
    },
    {
      "cell_type": "markdown",
      "source": [
        "\n",
        " 10. What is the difference between implicit and explicit type castinge?\n",
        "      - imlicit type casting python understand datatype\n",
        "```\n",
        "\n"
      ],
      "metadata": {
        "id": "Z81CHN9PuoJf"
      }
    },
    {
      "cell_type": "code",
      "source": [
        "a = 8\n",
        "type(a)\n",
        "\n"
      ],
      "metadata": {
        "colab": {
          "base_uri": "https://localhost:8080/"
        },
        "id": "VHL-H3RKPH02",
        "outputId": "66a9221e-e045-4117-d304-24d37a03e6c8"
      },
      "execution_count": null,
      "outputs": [
        {
          "output_type": "execute_result",
          "data": {
            "text/plain": [
              "int"
            ]
          },
          "metadata": {},
          "execution_count": 1
        }
      ]
    },
    {
      "cell_type": "code",
      "source": [
        "2+3\n"
      ],
      "metadata": {
        "colab": {
          "base_uri": "https://localhost:8080/"
        },
        "id": "fGqGf60QPaF8",
        "outputId": "662c6709-c669-4314-aeec-1488efe99320"
      },
      "execution_count": null,
      "outputs": [
        {
          "output_type": "execute_result",
          "data": {
            "text/plain": [
              "5"
            ]
          },
          "metadata": {},
          "execution_count": 2
        }
      ]
    },
    {
      "cell_type": "markdown",
      "source": [
        "   - explicit type casting convert data type using inbuilt functiond>> str, int, float, bool\n",
        "  \n",
        "  convert data type using inbuilt functiond>> str, int, float, bool"
      ],
      "metadata": {
        "id": "aE_2phmLPduH"
      }
    },
    {
      "cell_type": "code",
      "source": [
        "a = \"2\"\n",
        "type(a)\n"
      ],
      "metadata": {
        "colab": {
          "base_uri": "https://localhost:8080/"
        },
        "id": "srQ61Ss7P5Rs",
        "outputId": "c7d4fae4-f883-4175-ee8f-e61de204322f"
      },
      "execution_count": null,
      "outputs": [
        {
          "output_type": "execute_result",
          "data": {
            "text/plain": [
              "str"
            ]
          },
          "metadata": {},
          "execution_count": 3
        }
      ]
    },
    {
      "cell_type": "code",
      "source": [
        "int(a)"
      ],
      "metadata": {
        "colab": {
          "base_uri": "https://localhost:8080/"
        },
        "id": "UDuBZ3MbQDt4",
        "outputId": "a5828a49-53c4-4632-a9a6-dc439769fad6"
      },
      "execution_count": null,
      "outputs": [
        {
          "output_type": "execute_result",
          "data": {
            "text/plain": [
              "2"
            ]
          },
          "metadata": {},
          "execution_count": 4
        }
      ]
    },
    {
      "cell_type": "code",
      "source": [
        "type(2)"
      ],
      "metadata": {
        "colab": {
          "base_uri": "https://localhost:8080/"
        },
        "id": "GUX42Z03QJIM",
        "outputId": "64c2eadc-2b46-4331-d57d-0896cc4878ab"
      },
      "execution_count": null,
      "outputs": [
        {
          "output_type": "execute_result",
          "data": {
            "text/plain": [
              "int"
            ]
          },
          "metadata": {},
          "execution_count": 5
        }
      ]
    },
    {
      "cell_type": "markdown",
      "source": [
        " 11. What is the purpose of conditional statements in Pytho?\n",
        "        - the purpose of conditional statement in python check any conditional True or False.\n",
        " 12.  How does the elif statement work?\n",
        "        - elif statement work when use multiple statement in python\n",
        "         then one statement is False the used elif statement.\n",
        "         "
      ],
      "metadata": {
        "id": "qKIWoZzgShPO"
      }
    },
    {
      "cell_type": "markdown",
      "source": [
        "13.What is the difference between for and while loop?\n",
        "    - for loop it is works on inerate over a sequence of elements str, list\n",
        "    - while loop it is works on repeatally executed a block of code until met (True)\n",
        "14. Describe a scenario where a while loop is more suitable than a for loop.\n",
        "    - no for loop more suitable than while because\n",
        "    "
      ],
      "metadata": {
        "id": "NjF2s3R3QOSN"
      }
    },
    {
      "cell_type": "code",
      "source": [
        "row = 1\n",
        "while row <= 4:\n",
        "    col = 1\n",
        "    while col <= row:\n",
        "        print(\"*\", end = \"\")\n",
        "        col = col+1\n",
        "    print()\n",
        "    row = row+1"
      ],
      "metadata": {
        "colab": {
          "base_uri": "https://localhost:8080/"
        },
        "id": "1IyeCOlhLo6m",
        "outputId": "f7001d77-49f7-434b-fa08-0d73a0a6dcbe"
      },
      "execution_count": null,
      "outputs": [
        {
          "output_type": "stream",
          "name": "stdout",
          "text": [
            "*\n",
            "**\n",
            "***\n",
            "****\n"
          ]
        }
      ]
    },
    {
      "cell_type": "code",
      "source": [
        "for i in range(4):\n",
        "    for j in range(i+1):\n",
        "        print(\"*\", end = \"\")\n",
        "    print()"
      ],
      "metadata": {
        "colab": {
          "base_uri": "https://localhost:8080/"
        },
        "id": "oqtilc4NL1Sk",
        "outputId": "ce5944ec-5446-4dc0-a43d-3d99c1038400"
      },
      "execution_count": null,
      "outputs": [
        {
          "output_type": "stream",
          "name": "stdout",
          "text": [
            "*\n",
            "**\n",
            "***\n",
            "****\n"
          ]
        }
      ]
    },
    {
      "cell_type": "markdown",
      "source": [
        "Practical Questions"
      ],
      "metadata": {
        "id": "3_qfcuMeMBPC"
      }
    },
    {
      "cell_type": "markdown",
      "source": [
        "1 Write a Python program to print \"Hello, World!_\n",
        "  "
      ],
      "metadata": {
        "id": "KcfKVmMNMbXa"
      }
    },
    {
      "cell_type": "code",
      "source": [
        "print(\"hello word\")"
      ],
      "metadata": {
        "colab": {
          "base_uri": "https://localhost:8080/"
        },
        "id": "aYJw9QN-Mx5E",
        "outputId": "8e96fab3-b429-4727-a2b7-f0198fb2dc80"
      },
      "execution_count": null,
      "outputs": [
        {
          "output_type": "stream",
          "name": "stdout",
          "text": [
            "hello word\n"
          ]
        }
      ]
    },
    {
      "cell_type": "markdown",
      "source": [
        "2. Write a Python program that displays your name and age."
      ],
      "metadata": {
        "id": "_zr5uY9Lqfcf"
      }
    },
    {
      "cell_type": "code",
      "source": [
        "name = (\"deepak\")\n",
        "age = (\"24\")\n",
        "print(name)\n",
        "print(age)\n"
      ],
      "metadata": {
        "colab": {
          "base_uri": "https://localhost:8080/"
        },
        "id": "NR1Qz89Eq_m_",
        "outputId": "aca0e8ca-7b23-4fb1-ee8d-f720ac65ad7f"
      },
      "execution_count": null,
      "outputs": [
        {
          "output_type": "stream",
          "name": "stdout",
          "text": [
            "deepak\n",
            "24\n"
          ]
        }
      ]
    },
    {
      "cell_type": "markdown",
      "source": [
        "3. Write code to print all the pre-defined keywords in Python using the keyword library.\n"
      ],
      "metadata": {
        "id": "Rgxef3pGrUnO"
      }
    },
    {
      "cell_type": "code",
      "source": [
        "help(\"pre-defined keywords\")\n",
        "print(help(\"keywords\"))"
      ],
      "metadata": {
        "colab": {
          "base_uri": "https://localhost:8080/"
        },
        "id": "EhBJ2N9trdc2",
        "outputId": "49b37c18-1fd1-4f40-e52c-b0622ad174ce"
      },
      "execution_count": null,
      "outputs": [
        {
          "output_type": "stream",
          "name": "stdout",
          "text": [
            "No Python documentation found for 'pre-defined keywords'.\n",
            "Use help() to get the interactive help utility.\n",
            "Use help(str) for help on the str class.\n",
            "\n",
            "\n",
            "Here is a list of the Python keywords.  Enter any keyword to get more help.\n",
            "\n",
            "False               class               from                or\n",
            "None                continue            global              pass\n",
            "True                def                 if                  raise\n",
            "and                 del                 import              return\n",
            "as                  elif                in                  try\n",
            "assert              else                is                  while\n",
            "async               except              lambda              with\n",
            "await               finally             nonlocal            yield\n",
            "break               for                 not                 \n",
            "\n",
            "None\n"
          ]
        }
      ]
    },
    {
      "cell_type": "markdown",
      "source": [
        "some pre-defined keyword in python like True,False, None"
      ],
      "metadata": {
        "id": "n91U3bDAu5wW"
      }
    },
    {
      "cell_type": "markdown",
      "source": [
        "4. Write a program that checks if a given word is a Python keyword.\n"
      ],
      "metadata": {
        "id": "47zjJGlvvHBF"
      }
    },
    {
      "cell_type": "code",
      "source": [
        "a = 2\n",
        "b = 2\n",
        "a is b"
      ],
      "metadata": {
        "colab": {
          "base_uri": "https://localhost:8080/"
        },
        "id": "KvG2fx9jwYdR",
        "outputId": "431bf762-5a20-4476-9fef-e01e43ddf268"
      },
      "execution_count": null,
      "outputs": [
        {
          "output_type": "execute_result",
          "data": {
            "text/plain": [
              "True"
            ]
          },
          "metadata": {},
          "execution_count": 7
        }
      ]
    },
    {
      "cell_type": "markdown",
      "source": [
        "5. Create a list and tuple in Python, and demonstrate how attempting to change an element works differently\n",
        "for each.\n",
        "   "
      ],
      "metadata": {
        "id": "8Y2R607exHQE"
      }
    },
    {
      "cell_type": "code",
      "source": [
        "list = [1,2,5,10,\"arjun\"]\n",
        "print(list[0])\n",
        "list[4] = \"birju\"\n",
        "print(list)"
      ],
      "metadata": {
        "colab": {
          "base_uri": "https://localhost:8080/"
        },
        "id": "QE0VFAjsJ73P",
        "outputId": "dcf69a66-e3e8-426e-8777-c553d570cd78"
      },
      "execution_count": null,
      "outputs": [
        {
          "output_type": "stream",
          "name": "stdout",
          "text": [
            "1\n",
            "[1, 2, 5, 10, 'birju']\n"
          ]
        }
      ]
    },
    {
      "cell_type": "code",
      "source": [
        "tup = (1,2,5,10,\"arjun\")\n",
        "print(tup[0])\n",
        "print(tup)\n",
        "tup[4] = \"birju\"\n",
        "print(tup)\n"
      ],
      "metadata": {
        "colab": {
          "base_uri": "https://localhost:8080/",
          "height": 232
        },
        "id": "WC4IaclIMq-Y",
        "outputId": "57b3d5c7-0198-4633-a43b-160f5027af7b"
      },
      "execution_count": null,
      "outputs": [
        {
          "output_type": "stream",
          "name": "stdout",
          "text": [
            "1\n",
            "(1, 2, 5, 10, 'arjun')\n"
          ]
        },
        {
          "output_type": "error",
          "ename": "TypeError",
          "evalue": "'tuple' object does not support item assignment",
          "traceback": [
            "\u001b[0;31m---------------------------------------------------------------------------\u001b[0m",
            "\u001b[0;31mTypeError\u001b[0m                                 Traceback (most recent call last)",
            "\u001b[0;32m<ipython-input-38-6c154fafc147>\u001b[0m in \u001b[0;36m<cell line: 0>\u001b[0;34m()\u001b[0m\n\u001b[1;32m      2\u001b[0m \u001b[0mprint\u001b[0m\u001b[0;34m(\u001b[0m\u001b[0mtup\u001b[0m\u001b[0;34m[\u001b[0m\u001b[0;36m0\u001b[0m\u001b[0;34m]\u001b[0m\u001b[0;34m)\u001b[0m\u001b[0;34m\u001b[0m\u001b[0;34m\u001b[0m\u001b[0m\n\u001b[1;32m      3\u001b[0m \u001b[0mprint\u001b[0m\u001b[0;34m(\u001b[0m\u001b[0mtup\u001b[0m\u001b[0;34m)\u001b[0m\u001b[0;34m\u001b[0m\u001b[0;34m\u001b[0m\u001b[0m\n\u001b[0;32m----> 4\u001b[0;31m \u001b[0mtup\u001b[0m\u001b[0;34m[\u001b[0m\u001b[0;36m4\u001b[0m\u001b[0;34m]\u001b[0m \u001b[0;34m=\u001b[0m \u001b[0;34m\"birju\"\u001b[0m\u001b[0;34m\u001b[0m\u001b[0;34m\u001b[0m\u001b[0m\n\u001b[0m\u001b[1;32m      5\u001b[0m \u001b[0mprint\u001b[0m\u001b[0;34m(\u001b[0m\u001b[0mtup\u001b[0m\u001b[0;34m)\u001b[0m\u001b[0;34m\u001b[0m\u001b[0;34m\u001b[0m\u001b[0m\n",
            "\u001b[0;31mTypeError\u001b[0m: 'tuple' object does not support item assignment"
          ]
        }
      ]
    },
    {
      "cell_type": "markdown",
      "source": [
        "6. Write a function to demonstrate the behavior of mutable and immutable arguments."
      ],
      "metadata": {
        "id": "hW7FQFY3NhV7"
      }
    },
    {
      "cell_type": "code",
      "source": [
        "#mutable behavior\n",
        "list_cont = [1,2,3,5,\"Ajay\"]\n",
        "list_cont\n",
        "list_cont[4]\n",
        "list_cont[4] = \"Bijay\"\n",
        "list_cont"
      ],
      "metadata": {
        "colab": {
          "base_uri": "https://localhost:8080/"
        },
        "id": "bcvhZrpgYgEV",
        "outputId": "955abf96-1a78-4fe6-a8fb-e9c9e44609a9"
      },
      "execution_count": null,
      "outputs": [
        {
          "output_type": "execute_result",
          "data": {
            "text/plain": [
              "[1, 2, 3, 5, 'Bijay']"
            ]
          },
          "metadata": {},
          "execution_count": 41
        }
      ]
    },
    {
      "cell_type": "code",
      "source": [
        "# immutable arguments string are no mutable in the python\n",
        "d = \"deepak\"\n",
        "d[0] = \"b\"\n",
        "\n"
      ],
      "metadata": {
        "colab": {
          "base_uri": "https://localhost:8080/",
          "height": 196
        },
        "id": "Pho63x7LZSX6",
        "outputId": "da11830b-8433-4267-d960-e439c6bc5bc4"
      },
      "execution_count": null,
      "outputs": [
        {
          "output_type": "error",
          "ename": "TypeError",
          "evalue": "'str' object does not support item assignment",
          "traceback": [
            "\u001b[0;31m---------------------------------------------------------------------------\u001b[0m",
            "\u001b[0;31mTypeError\u001b[0m                                 Traceback (most recent call last)",
            "\u001b[0;32m<ipython-input-42-0e181b4d57b2>\u001b[0m in \u001b[0;36m<cell line: 0>\u001b[0;34m()\u001b[0m\n\u001b[1;32m      1\u001b[0m \u001b[0;31m# immutable arguments string are no mutable in the python\u001b[0m\u001b[0;34m\u001b[0m\u001b[0;34m\u001b[0m\u001b[0m\n\u001b[1;32m      2\u001b[0m \u001b[0md\u001b[0m \u001b[0;34m=\u001b[0m \u001b[0;34m\"deepak\"\u001b[0m\u001b[0;34m\u001b[0m\u001b[0;34m\u001b[0m\u001b[0m\n\u001b[0;32m----> 3\u001b[0;31m \u001b[0md\u001b[0m\u001b[0;34m[\u001b[0m\u001b[0;36m0\u001b[0m\u001b[0;34m]\u001b[0m \u001b[0;34m=\u001b[0m \u001b[0;34m\"b\"\u001b[0m\u001b[0;34m\u001b[0m\u001b[0;34m\u001b[0m\u001b[0m\n\u001b[0m\u001b[1;32m      4\u001b[0m \u001b[0;34m\u001b[0m\u001b[0m\n",
            "\u001b[0;31mTypeError\u001b[0m: 'str' object does not support item assignment"
          ]
        }
      ]
    },
    {
      "cell_type": "markdown",
      "source": [
        "7. Write a program to demonstrate the use of logical operators."
      ],
      "metadata": {
        "id": "Ys4elUEoa18O"
      }
    },
    {
      "cell_type": "code",
      "source": [
        "# logical operators And, or, no\n",
        "True and True"
      ],
      "metadata": {
        "colab": {
          "base_uri": "https://localhost:8080/"
        },
        "id": "0Oo-ObEBaqKH",
        "outputId": "17a8412f-14dd-4ade-e5ac-08af3624ef73"
      },
      "execution_count": null,
      "outputs": [
        {
          "output_type": "execute_result",
          "data": {
            "text/plain": [
              "True"
            ]
          },
          "metadata": {},
          "execution_count": 43
        }
      ]
    },
    {
      "cell_type": "code",
      "source": [
        "True and False"
      ],
      "metadata": {
        "colab": {
          "base_uri": "https://localhost:8080/"
        },
        "id": "65j7UStjb3PX",
        "outputId": "d68d26aa-64f2-429e-e47a-e0e57570cf32"
      },
      "execution_count": null,
      "outputs": [
        {
          "output_type": "execute_result",
          "data": {
            "text/plain": [
              "False"
            ]
          },
          "metadata": {},
          "execution_count": 44
        }
      ]
    },
    {
      "cell_type": "code",
      "source": [
        "False and False\n"
      ],
      "metadata": {
        "colab": {
          "base_uri": "https://localhost:8080/"
        },
        "id": "Q_Z3RHwOcD7u",
        "outputId": "232f3359-d165-4ad9-81cb-3b30730e1df6"
      },
      "execution_count": null,
      "outputs": [
        {
          "output_type": "execute_result",
          "data": {
            "text/plain": [
              "False"
            ]
          },
          "metadata": {},
          "execution_count": 45
        }
      ]
    },
    {
      "cell_type": "code",
      "source": [
        "True or True"
      ],
      "metadata": {
        "colab": {
          "base_uri": "https://localhost:8080/"
        },
        "id": "z29WYShpcJve",
        "outputId": "4eba367e-4d52-46d7-97ca-b4a6d620d7a3"
      },
      "execution_count": null,
      "outputs": [
        {
          "output_type": "execute_result",
          "data": {
            "text/plain": [
              "True"
            ]
          },
          "metadata": {},
          "execution_count": 46
        }
      ]
    },
    {
      "cell_type": "code",
      "source": [
        "True or False"
      ],
      "metadata": {
        "colab": {
          "base_uri": "https://localhost:8080/"
        },
        "id": "GUfdyM5kcJsH",
        "outputId": "f7b00a25-9738-461e-e98a-8784171054a6"
      },
      "execution_count": null,
      "outputs": [
        {
          "output_type": "execute_result",
          "data": {
            "text/plain": [
              "True"
            ]
          },
          "metadata": {},
          "execution_count": 48
        }
      ]
    },
    {
      "cell_type": "code",
      "source": [
        "not False"
      ],
      "metadata": {
        "colab": {
          "base_uri": "https://localhost:8080/"
        },
        "id": "vy2UfNeUcnSu",
        "outputId": "19b4f23b-ff72-4a63-8be6-07c99db56713"
      },
      "execution_count": null,
      "outputs": [
        {
          "output_type": "execute_result",
          "data": {
            "text/plain": [
              "True"
            ]
          },
          "metadata": {},
          "execution_count": 52
        }
      ]
    },
    {
      "cell_type": "markdown",
      "source": [
        "8. Write a Python program to convert user input from string to integer, float, and boolean types"
      ],
      "metadata": {
        "id": "hdtlKnvJkkZw"
      }
    },
    {
      "cell_type": "code",
      "source": [
        "# strint to integer\n",
        "a = \"2\"\n",
        "print(type(a))\n",
        "print(type(int(a)))"
      ],
      "metadata": {
        "colab": {
          "base_uri": "https://localhost:8080/"
        },
        "id": "PtxyybFckimZ",
        "outputId": "a3948b44-3031-45c2-d40d-f82d5762170a"
      },
      "execution_count": null,
      "outputs": [
        {
          "output_type": "stream",
          "name": "stdout",
          "text": [
            "<class 'str'>\n",
            "<class 'int'>\n"
          ]
        }
      ]
    },
    {
      "cell_type": "code",
      "source": [
        "a = \"2\"\n",
        "print(type(a))\n",
        "print(type(float(a)))"
      ],
      "metadata": {
        "colab": {
          "base_uri": "https://localhost:8080/"
        },
        "id": "anbumAwfk2Jb",
        "outputId": "d989971c-f0d5-4ed3-d9e0-180ab3cbfeed"
      },
      "execution_count": null,
      "outputs": [
        {
          "output_type": "stream",
          "name": "stdout",
          "text": [
            "<class 'str'>\n",
            "<class 'float'>\n"
          ]
        }
      ]
    },
    {
      "cell_type": "code",
      "source": [
        "a = \"2\"\n",
        "print(type(a))\n",
        "print(type(bool(a)))"
      ],
      "metadata": {
        "colab": {
          "base_uri": "https://localhost:8080/"
        },
        "id": "7LetXBtbmme-",
        "outputId": "be0bd0e2-fdb9-4dce-ec94-83beb9929258"
      },
      "execution_count": null,
      "outputs": [
        {
          "output_type": "stream",
          "name": "stdout",
          "text": [
            "<class 'str'>\n",
            "<class 'bool'>\n"
          ]
        }
      ]
    },
    {
      "cell_type": "markdown",
      "source": [
        "9.Write code to demonstrate type casting with list elements."
      ],
      "metadata": {
        "id": "d6cJ-mKIm79Q"
      }
    },
    {
      "cell_type": "code",
      "source": [
        "#type casting\n",
        "list = [1,2,3,8,9]\n",
        "print(list[0])\n",
        "list[0] = 100\n",
        "print(list)\n",
        "list[3] = \"deepak\"\n",
        "print(list)\n"
      ],
      "metadata": {
        "colab": {
          "base_uri": "https://localhost:8080/"
        },
        "id": "7g8mREPDnD18",
        "outputId": "7dcca0c1-2b87-4abd-cb12-4d9d6591cb2c"
      },
      "execution_count": null,
      "outputs": [
        {
          "output_type": "stream",
          "name": "stdout",
          "text": [
            "1\n",
            "[100, 2, 3, 8, 9]\n",
            "[100, 2, 3, 'deepak', 9]\n"
          ]
        }
      ]
    },
    {
      "cell_type": "markdown",
      "source": [
        "10. Write a program that checks if a number is positive, negative, or zero.\n",
        "    -"
      ],
      "metadata": {
        "id": "lZrFHcYqkiOB"
      }
    },
    {
      "cell_type": "code",
      "source": [
        "num = 42\n",
        "if num < 23:\n",
        "    print(num, \"is negative\")\n",
        "elif num > 23:\n",
        "    print(num, \"is positive\")\n",
        "else:\n",
        "    print(num, \"is zero\")"
      ],
      "metadata": {
        "colab": {
          "base_uri": "https://localhost:8080/"
        },
        "id": "cG2zKtQug3Lj",
        "outputId": "6b2841f8-0b21-4492-9d43-ff2d8117d354"
      },
      "execution_count": null,
      "outputs": [
        {
          "output_type": "stream",
          "name": "stdout",
          "text": [
            "42 is positive\n"
          ]
        }
      ]
    },
    {
      "cell_type": "code",
      "source": [
        "num = 20\n",
        "if num < 23:\n",
        "    print(num, \"is negative\")\n",
        "elif num > 23:\n",
        "    print(num, \"is positive\")\n",
        "else:\n",
        "    print(num, \"is zero\")"
      ],
      "metadata": {
        "colab": {
          "base_uri": "https://localhost:8080/"
        },
        "id": "vCqCpEfkhJaB",
        "outputId": "380666d7-d22d-432b-e20d-0c9f06ce409c"
      },
      "execution_count": null,
      "outputs": [
        {
          "output_type": "stream",
          "name": "stdout",
          "text": [
            "20 is negative\n"
          ]
        }
      ]
    },
    {
      "cell_type": "code",
      "source": [
        "num = 23\n",
        "if num < 23:\n",
        "    print(num, \"is negative\")\n",
        "elif num > 23:\n",
        "    print(num, \"is positive\")\n",
        "else:\n",
        "    print(num, \"is zero\")"
      ],
      "metadata": {
        "colab": {
          "base_uri": "https://localhost:8080/"
        },
        "id": "40ojE6zfhVNU",
        "outputId": "4be69f47-8068-45a2-d6d2-ec6ebe61bb41"
      },
      "execution_count": null,
      "outputs": [
        {
          "output_type": "stream",
          "name": "stdout",
          "text": [
            "23 is zero\n"
          ]
        }
      ]
    },
    {
      "cell_type": "markdown",
      "source": [
        "11.  Write a for loop to print numbers from 1 to 10\n",
        "    \n"
      ],
      "metadata": {
        "id": "nDuzEniVhuJ3"
      }
    },
    {
      "cell_type": "code",
      "source": [
        "n = 11\n",
        "i = 1\n",
        "while i < n:\n",
        "    print(i)\n",
        "    i = i+1"
      ],
      "metadata": {
        "colab": {
          "base_uri": "https://localhost:8080/"
        },
        "id": "YhP_Jhhfh46m",
        "outputId": "87438e17-5a8d-49b2-a154-20039bee31e8"
      },
      "execution_count": null,
      "outputs": [
        {
          "output_type": "stream",
          "name": "stdout",
          "text": [
            "1\n",
            "2\n",
            "3\n",
            "4\n",
            "5\n",
            "6\n",
            "7\n",
            "8\n",
            "9\n",
            "10\n"
          ]
        }
      ]
    },
    {
      "cell_type": "markdown",
      "source": [
        "12. Write a Python program to find the sum of all even numbers between 1 and 50."
      ],
      "metadata": {
        "id": "DEFCAqixix9W"
      }
    },
    {
      "cell_type": "code",
      "source": [
        "num = 40\n",
        "if num % 2 == 0:\n",
        "    print(num, \"is even\")\n",
        "else:\n",
        "    print(num, \"is odd\")"
      ],
      "metadata": {
        "colab": {
          "base_uri": "https://localhost:8080/"
        },
        "id": "zF-_kkEgi2aM",
        "outputId": "33ad6d0a-df1e-4b56-d462-98531082b731"
      },
      "execution_count": null,
      "outputs": [
        {
          "output_type": "stream",
          "name": "stdout",
          "text": [
            "40 is even\n"
          ]
        }
      ]
    },
    {
      "cell_type": "markdown",
      "source": [
        "13. Write a program to reverse a string using a while loop."
      ],
      "metadata": {
        "id": "nKsY0DEgjxi0"
      }
    },
    {
      "cell_type": "code",
      "source": [
        "l = [1,2,\"Ajay\",\"Bijay\"]\n",
        "for i in l:\n",
        "  print(i)"
      ],
      "metadata": {
        "colab": {
          "base_uri": "https://localhost:8080/"
        },
        "id": "WYdGcC61jqT4",
        "outputId": "077b39c8-9e1e-4a9a-e561-de93778e8ec3"
      },
      "execution_count": null,
      "outputs": [
        {
          "output_type": "stream",
          "name": "stdout",
          "text": [
            "1\n",
            "2\n",
            "Ajay\n",
            "Bijay\n"
          ]
        }
      ]
    },
    {
      "cell_type": "markdown",
      "source": [
        "14. Write a Python program to calculate the factorial of a number provided by the user using a while loop."
      ],
      "metadata": {
        "id": "4LjPvagqsQEC"
      }
    },
    {
      "cell_type": "code",
      "source": [
        "for i in range(1, 6):\n",
        "    for j in range(1, 11):\n",
        "        product = i * j\n",
        "        print(f\"{i} * {j} = {product}\")\n",
        "    print()"
      ],
      "metadata": {
        "colab": {
          "base_uri": "https://localhost:8080/"
        },
        "id": "xO3BDDguvwwJ",
        "outputId": "cb0c171b-6817-4401-dc2d-5193603a9d4c"
      },
      "execution_count": null,
      "outputs": [
        {
          "output_type": "stream",
          "name": "stdout",
          "text": [
            "1 * 1 = 1\n",
            "1 * 2 = 2\n",
            "1 * 3 = 3\n",
            "1 * 4 = 4\n",
            "1 * 5 = 5\n",
            "1 * 6 = 6\n",
            "1 * 7 = 7\n",
            "1 * 8 = 8\n",
            "1 * 9 = 9\n",
            "1 * 10 = 10\n",
            "\n",
            "2 * 1 = 2\n",
            "2 * 2 = 4\n",
            "2 * 3 = 6\n",
            "2 * 4 = 8\n",
            "2 * 5 = 10\n",
            "2 * 6 = 12\n",
            "2 * 7 = 14\n",
            "2 * 8 = 16\n",
            "2 * 9 = 18\n",
            "2 * 10 = 20\n",
            "\n",
            "3 * 1 = 3\n",
            "3 * 2 = 6\n",
            "3 * 3 = 9\n",
            "3 * 4 = 12\n",
            "3 * 5 = 15\n",
            "3 * 6 = 18\n",
            "3 * 7 = 21\n",
            "3 * 8 = 24\n",
            "3 * 9 = 27\n",
            "3 * 10 = 30\n",
            "\n",
            "4 * 1 = 4\n",
            "4 * 2 = 8\n",
            "4 * 3 = 12\n",
            "4 * 4 = 16\n",
            "4 * 5 = 20\n",
            "4 * 6 = 24\n",
            "4 * 7 = 28\n",
            "4 * 8 = 32\n",
            "4 * 9 = 36\n",
            "4 * 10 = 40\n",
            "\n",
            "5 * 1 = 5\n",
            "5 * 2 = 10\n",
            "5 * 3 = 15\n",
            "5 * 4 = 20\n",
            "5 * 5 = 25\n",
            "5 * 6 = 30\n",
            "5 * 7 = 35\n",
            "5 * 8 = 40\n",
            "5 * 9 = 45\n",
            "5 * 10 = 50\n",
            "\n"
          ]
        }
      ]
    },
    {
      "cell_type": "code",
      "source": [],
      "metadata": {
        "id": "IDxpeQycvwsL"
      },
      "execution_count": null,
      "outputs": []
    }
  ]
}